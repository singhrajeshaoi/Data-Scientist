{
 "cells": [
  {
   "cell_type": "markdown",
   "metadata": {},
   "source": [
    "<center>\n",
    "    <img src=\"https://cf-courses-data.s3.us.cloud-object-storage.appdomain.cloud/IBMDeveloperSkillsNetwork-DS0105EN-SkillsNetwork/labs/Module2/images/SN_web_lightmode.png\" width=\"300\" alt=\"cognitiveclass.ai logo\"  />\n",
    "</center>\n"
   ]
  },
  {
   "cell_type": "markdown",
   "metadata": {},
   "source": [
    "#### Add your code below following the instructions given in the course\n"
   ]
  },
  {
   "cell_type": "markdown",
   "metadata": {},
   "source": [
    "# My Jupyter Notebook on IBM Watson Studio"
   ]
  },
  {
   "cell_type": "markdown",
   "metadata": {},
   "source": [
    "**Rajesh Singh**\n",
    "\n",
    "**My Current occupation:** Solution Expert\n",
    "\n",
    "**My desired occupation:** Data Scientist"
   ]
  },
  {
   "cell_type": "markdown",
   "metadata": {},
   "source": [
    "*I am interested in data science because leveraging data to aid companies with their business strategies, and explore exciting new fields developing from within data science fields like artificial intelligence, machine learning, big data, and more*"
   ]
  },
  {
   "cell_type": "markdown",
   "metadata": {},
   "source": [
    "### This is simple function which i use to concatenate any Person name with Hello"
   ]
  },
  {
   "cell_type": "code",
   "execution_count": 6,
   "metadata": {},
   "outputs": [
    {
     "data": {
      "text/plain": [
       "'Hello, Rajesh Singh'"
      ]
     },
     "execution_count": 6,
     "metadata": {},
     "output_type": "execute_result"
    }
   ],
   "source": [
    "def hello (name):\n",
    "    return f'Hello, {name}'\n",
    "\n",
    "hello('Rajesh Singh')"
   ]
  },
  {
   "cell_type": "markdown",
   "metadata": {},
   "source": [
    "## Numbered list Example:\n",
    "\n",
    "1. Photography\n",
    "\t1. Street Photography\n",
    "\t2. Fashion Photography\n",
    "\t3. Product Photography\n",
    "2. videography\n",
    "3. editing\n",
    "4. Post Processing\n",
    "\n",
    "## Bullet list Example:\n",
    "\n",
    "- Photography\n",
    "\t- Street Photography\n",
    "\t- Fashion Photography\n",
    "\t- Product Photography\n",
    "- videography\n",
    "- editing\n",
    "- Post Processing\n",
    "\n",
    "\n",
    "# Exercise: \n",
    "\n",
    "1. Write function\n",
    "2. Get the output from the function\n",
    "3. Print the output on the screen\n",
    "\n",
    "Example:\n",
    "\n",
    "```python\n",
    "x = f(y)\n",
    "print (X)\n",
    "```\n",
    "\n",
    "# Here is the link and Image:\n",
    "\n",
    "I like [Python](https://www.python.org/). This is WOW language\n",
    "\n",
    "![Python logo](https://www.python.org/static/community_logos/python-logo-master-v3-TM.png)"
   ]
  },
  {
   "cell_type": "code",
   "execution_count": null,
   "metadata": {},
   "outputs": [],
   "source": []
  }
 ],
 "metadata": {
  "kernelspec": {
   "display_name": "Python",
   "language": "python",
   "name": "conda-env-python-py"
  },
  "language_info": {
   "codemirror_mode": {
    "name": "ipython",
    "version": 3
   },
   "file_extension": ".py",
   "mimetype": "text/x-python",
   "name": "python",
   "nbconvert_exporter": "python",
   "pygments_lexer": "ipython3",
   "version": "3.7.12"
  }
 },
 "nbformat": 4,
 "nbformat_minor": 4
}
